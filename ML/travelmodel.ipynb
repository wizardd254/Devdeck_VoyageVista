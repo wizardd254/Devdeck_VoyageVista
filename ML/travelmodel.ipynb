{
  "nbformat": 4,
  "nbformat_minor": 0,
  "metadata": {
    "colab": {
      "provenance": []
    },
    "kernelspec": {
      "name": "python3",
      "display_name": "Python 3"
    },
    "language_info": {
      "name": "python"
    }
  },
  "cells": [
    {
      "cell_type": "code",
      "execution_count": 158,
      "metadata": {
        "id": "s21Jd--hFTJL"
      },
      "outputs": [],
      "source": [
        "import pandas as pd\n",
        "from sklearn.preprocessing import OneHotEncoder\n",
        "\n",
        "\n",
        "df = pd.read_csv('/content/Top Indian Places to Visit.csv')\n",
        "\n",
        "\n",
        "X = df[['Zone','State','Type','Significance', 'Best Time to visit']]\n",
        "y = df['City']\n",
        "\n",
        "\n",
        "encoder = OneHotEncoder()\n",
        "X_encoded = encoder.fit_transform(X).toarray()\n",
        "\n",
        "from sklearn.preprocessing import LabelEncoder\n",
        "label_encoder = LabelEncoder()\n",
        "y_encoded = label_encoder.fit_transform(y)\n"
      ]
    },
    {
      "cell_type": "code",
      "source": [
        "from sklearn.model_selection import train_test_split\n",
        "\n",
        "X_train, X_test, y_train, y_test = train_test_split(X_encoded, y_encoded, test_size=0.2, random_state=42)\n"
      ],
      "metadata": {
        "id": "J_Y_pcxPK8Xf"
      },
      "execution_count": 159,
      "outputs": []
    },
    {
      "cell_type": "code",
      "source": [
        "from sklearn.neighbors import KNeighborsClassifier\n",
        "\n",
        "\n",
        "knn = KNeighborsClassifier(n_neighbors=5)\n",
        "\n",
        "\n",
        "knn.fit(X_train, y_train)\n"
      ],
      "metadata": {
        "colab": {
          "base_uri": "https://localhost:8080/",
          "height": 75
        },
        "id": "disAvVQAK8Zi",
        "outputId": "d670bc79-1ec7-49f5-dbf1-a6d66cf14542"
      },
      "execution_count": 86,
      "outputs": [
        {
          "output_type": "execute_result",
          "data": {
            "text/plain": [
              "KNeighborsClassifier()"
            ],
            "text/html": [
              "<style>#sk-container-id-21 {color: black;background-color: white;}#sk-container-id-21 pre{padding: 0;}#sk-container-id-21 div.sk-toggleable {background-color: white;}#sk-container-id-21 label.sk-toggleable__label {cursor: pointer;display: block;width: 100%;margin-bottom: 0;padding: 0.3em;box-sizing: border-box;text-align: center;}#sk-container-id-21 label.sk-toggleable__label-arrow:before {content: \"▸\";float: left;margin-right: 0.25em;color: #696969;}#sk-container-id-21 label.sk-toggleable__label-arrow:hover:before {color: black;}#sk-container-id-21 div.sk-estimator:hover label.sk-toggleable__label-arrow:before {color: black;}#sk-container-id-21 div.sk-toggleable__content {max-height: 0;max-width: 0;overflow: hidden;text-align: left;background-color: #f0f8ff;}#sk-container-id-21 div.sk-toggleable__content pre {margin: 0.2em;color: black;border-radius: 0.25em;background-color: #f0f8ff;}#sk-container-id-21 input.sk-toggleable__control:checked~div.sk-toggleable__content {max-height: 200px;max-width: 100%;overflow: auto;}#sk-container-id-21 input.sk-toggleable__control:checked~label.sk-toggleable__label-arrow:before {content: \"▾\";}#sk-container-id-21 div.sk-estimator input.sk-toggleable__control:checked~label.sk-toggleable__label {background-color: #d4ebff;}#sk-container-id-21 div.sk-label input.sk-toggleable__control:checked~label.sk-toggleable__label {background-color: #d4ebff;}#sk-container-id-21 input.sk-hidden--visually {border: 0;clip: rect(1px 1px 1px 1px);clip: rect(1px, 1px, 1px, 1px);height: 1px;margin: -1px;overflow: hidden;padding: 0;position: absolute;width: 1px;}#sk-container-id-21 div.sk-estimator {font-family: monospace;background-color: #f0f8ff;border: 1px dotted black;border-radius: 0.25em;box-sizing: border-box;margin-bottom: 0.5em;}#sk-container-id-21 div.sk-estimator:hover {background-color: #d4ebff;}#sk-container-id-21 div.sk-parallel-item::after {content: \"\";width: 100%;border-bottom: 1px solid gray;flex-grow: 1;}#sk-container-id-21 div.sk-label:hover label.sk-toggleable__label {background-color: #d4ebff;}#sk-container-id-21 div.sk-serial::before {content: \"\";position: absolute;border-left: 1px solid gray;box-sizing: border-box;top: 0;bottom: 0;left: 50%;z-index: 0;}#sk-container-id-21 div.sk-serial {display: flex;flex-direction: column;align-items: center;background-color: white;padding-right: 0.2em;padding-left: 0.2em;position: relative;}#sk-container-id-21 div.sk-item {position: relative;z-index: 1;}#sk-container-id-21 div.sk-parallel {display: flex;align-items: stretch;justify-content: center;background-color: white;position: relative;}#sk-container-id-21 div.sk-item::before, #sk-container-id-21 div.sk-parallel-item::before {content: \"\";position: absolute;border-left: 1px solid gray;box-sizing: border-box;top: 0;bottom: 0;left: 50%;z-index: -1;}#sk-container-id-21 div.sk-parallel-item {display: flex;flex-direction: column;z-index: 1;position: relative;background-color: white;}#sk-container-id-21 div.sk-parallel-item:first-child::after {align-self: flex-end;width: 50%;}#sk-container-id-21 div.sk-parallel-item:last-child::after {align-self: flex-start;width: 50%;}#sk-container-id-21 div.sk-parallel-item:only-child::after {width: 0;}#sk-container-id-21 div.sk-dashed-wrapped {border: 1px dashed gray;margin: 0 0.4em 0.5em 0.4em;box-sizing: border-box;padding-bottom: 0.4em;background-color: white;}#sk-container-id-21 div.sk-label label {font-family: monospace;font-weight: bold;display: inline-block;line-height: 1.2em;}#sk-container-id-21 div.sk-label-container {text-align: center;}#sk-container-id-21 div.sk-container {/* jupyter's `normalize.less` sets `[hidden] { display: none; }` but bootstrap.min.css set `[hidden] { display: none !important; }` so we also need the `!important` here to be able to override the default hidden behavior on the sphinx rendered scikit-learn.org. See: https://github.com/scikit-learn/scikit-learn/issues/21755 */display: inline-block !important;position: relative;}#sk-container-id-21 div.sk-text-repr-fallback {display: none;}</style><div id=\"sk-container-id-21\" class=\"sk-top-container\"><div class=\"sk-text-repr-fallback\"><pre>KNeighborsClassifier()</pre><b>In a Jupyter environment, please rerun this cell to show the HTML representation or trust the notebook. <br />On GitHub, the HTML representation is unable to render, please try loading this page with nbviewer.org.</b></div><div class=\"sk-container\" hidden><div class=\"sk-item\"><div class=\"sk-estimator sk-toggleable\"><input class=\"sk-toggleable__control sk-hidden--visually\" id=\"sk-estimator-id-21\" type=\"checkbox\" checked><label for=\"sk-estimator-id-21\" class=\"sk-toggleable__label sk-toggleable__label-arrow\">KNeighborsClassifier</label><div class=\"sk-toggleable__content\"><pre>KNeighborsClassifier()</pre></div></div></div></div></div>"
            ]
          },
          "metadata": {},
          "execution_count": 86
        }
      ]
    },
    {
      "cell_type": "code",
      "source": [
        "from sklearn.metrics import accuracy_score\n",
        "\n",
        "\n",
        "y_pred = knn.predict(X_test)\n",
        "\n",
        "\n",
        "print(f'Accuracy: {accuracy_score(y_test, y_pred)}')\n"
      ],
      "metadata": {
        "colab": {
          "base_uri": "https://localhost:8080/"
        },
        "id": "KFtc-cRJK8cI",
        "outputId": "9bd2ca06-7a95-48fb-aa9e-d402821b036e"
      },
      "execution_count": 87,
      "outputs": [
        {
          "output_type": "stream",
          "name": "stdout",
          "text": [
            "Accuracy: 0.2923076923076923\n"
          ]
        }
      ]
    },
    {
      "cell_type": "code",
      "source": [
        "import pandas as pd\n",
        "\n",
        "zones = []\n",
        "states = []\n",
        "significances = []\n",
        "types=[]\n",
        "best_times_to_visit = []\n",
        "cities = []\n",
        "\n",
        "zones.extend(df['Zone'].tolist())\n",
        "states.extend(df['State'].tolist())\n",
        "significances.extend(df['Significance'].tolist())\n",
        "types.extend(df['Type'].tolist())\n",
        "best_times_to_visit.extend(df['Best Time to visit'].tolist())\n",
        "cities.extend(df['City'].tolist())\n",
        "\n",
        "\n",
        "new_df = pd.DataFrame({\n",
        "    'Zone': zones,\n",
        "    'State': states,\n",
        "    'Type':types,\n",
        "    'Significance': significances,\n",
        "    'Best Time to visit': best_times_to_visit,\n",
        "    'City': cities\n",
        "})\n",
        "\n",
        "\n"
      ],
      "metadata": {
        "id": "6GicsTTTa8CW"
      },
      "execution_count": 93,
      "outputs": []
    },
    {
      "cell_type": "code",
      "source": [
        "import numpy as np\n",
        "def recommend_city(zone=None, state=None, type=None, significance=None, time_to_visit=None):\n",
        "\n",
        "    if state is None and zone is None:\n",
        "        states = df['State'].unique()\n",
        "        state = np.random.choice(states)\n",
        "\n",
        "    if state is None or state not in df['State'].unique():\n",
        "        states = df[df['Zone'] == zone]['State'].unique()\n",
        "        state = np.random.choice(states)\n",
        "\n",
        "    if zone is None:\n",
        "        zone = df[df['State'] == state]['Zone'].unique()[0]\n",
        "\n",
        "    if type is None or type not in df['Type'].unique():\n",
        "        types = df['Type'].unique()\n",
        "        type = np.random.choice(types)\n",
        "\n",
        "    if significance is None or significance not in df['Significance']:\n",
        "        significances = df['Significance'].unique()\n",
        "        significance = np.random.choice(significances)\n",
        "\n",
        "\n",
        "    if time_to_visit is None or time_to_visit not in df['Best Time to visit']:\n",
        "        times = df['Best Time to visit'].unique()\n",
        "        time_to_visit = np.random.choice(times)\n",
        "\n",
        "\n",
        "    new_input = pd.DataFrame([[zone, state, type, significance, time_to_visit]], columns=['Zone', 'State', 'Type', 'Significance', 'Best Time to visit'])\n",
        "    new_input_encoded = encoder.transform(new_input).toarray()\n",
        "\n",
        "\n",
        "    prediction = knn.predict(new_input_encoded)\n",
        "    predicted_city = label_encoder.inverse_transform(prediction)[0]\n",
        "\n",
        "    return predicted_city\n",
        "\n",
        "\n",
        "city=recommend_city(None,None,None,'Scenic','All')\n",
        "print(city)\n",
        "\n",
        "places = df.loc[df['City'] == city, 'Name']\n",
        "for place in places:\n",
        "  print(place)"
      ],
      "metadata": {
        "colab": {
          "base_uri": "https://localhost:8080/"
        },
        "id": "VeAzD04BFVVr",
        "outputId": "cf23ec54-d15b-4494-dc03-5d885dcb0ec0"
      },
      "execution_count": 160,
      "outputs": [
        {
          "output_type": "stream",
          "name": "stdout",
          "text": [
            "Visakhapatnam\n",
            "Rishikonda Beach\n",
            "Kailasagiri\n",
            "Submarine Museum\n",
            "Borra Caves\n",
            "War Memorial\n",
            "Indira Gandhi Zoological Park\n",
            "Matsyadarshini Aquarium\n",
            "Visakha Museum\n"
          ]
        }
      ]
    },
    {
      "cell_type": "code",
      "source": [],
      "metadata": {
        "id": "UH8lLDKFFVaS"
      },
      "execution_count": null,
      "outputs": []
    },
    {
      "cell_type": "code",
      "source": [],
      "metadata": {
        "id": "N5HGr7AD1Wv3"
      },
      "execution_count": null,
      "outputs": []
    },
    {
      "cell_type": "code",
      "source": [],
      "metadata": {
        "id": "e1Q5qZrH1Xxx"
      },
      "execution_count": null,
      "outputs": []
    },
    {
      "cell_type": "code",
      "source": [],
      "metadata": {
        "id": "idKgV1811fTS"
      },
      "execution_count": null,
      "outputs": []
    },
    {
      "cell_type": "code",
      "source": [],
      "metadata": {
        "id": "Eg-jR_hLFVco"
      },
      "execution_count": null,
      "outputs": []
    }
  ]
}